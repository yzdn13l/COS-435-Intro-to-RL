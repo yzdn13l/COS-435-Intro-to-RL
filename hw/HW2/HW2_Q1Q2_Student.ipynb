{
  "cells": [
    {
      "cell_type": "markdown",
      "metadata": {
        "id": "4TAi7TP9xnEK"
      },
      "source": [
        "# The CartPole Environment"
      ]
    },
    {
      "cell_type": "markdown",
      "metadata": {
        "id": "gfCnxEi52C0Q"
      },
      "source": [
        "Below is the Cartpole environment we saw in class."
      ]
    },
    {
      "cell_type": "code",
      "execution_count": 118,
      "metadata": {
        "colab": {
          "base_uri": "https://localhost:8080/"
        },
        "id": "FriEEkbOxuaz",
        "outputId": "035bd42e-a8e4-47fb-8d1a-805700d30356"
      },
      "outputs": [
        {
          "name": "stdout",
          "output_type": "stream",
          "text": [
            "Requirement already satisfied: gym[classic_control] in /home/warrenz/miniconda3/envs/HWs/lib/python3.9/site-packages (0.26.2)\n",
            "Requirement already satisfied: numpy>=1.18.0 in /home/warrenz/miniconda3/envs/HWs/lib/python3.9/site-packages (from gym[classic_control]) (1.22.1)\n",
            "Requirement already satisfied: cloudpickle>=1.2.0 in /home/warrenz/miniconda3/envs/HWs/lib/python3.9/site-packages (from gym[classic_control]) (3.1.1)\n",
            "Requirement already satisfied: importlib_metadata>=4.8.0 in /home/warrenz/miniconda3/envs/HWs/lib/python3.9/site-packages (from gym[classic_control]) (7.0.1)\n",
            "Requirement already satisfied: gym_notices>=0.0.4 in /home/warrenz/miniconda3/envs/HWs/lib/python3.9/site-packages (from gym[classic_control]) (0.0.8)\n",
            "Requirement already satisfied: pygame==2.1.0 in /home/warrenz/miniconda3/envs/HWs/lib/python3.9/site-packages (from gym[classic_control]) (2.1.0)\n",
            "Requirement already satisfied: zipp>=0.5 in /home/warrenz/miniconda3/envs/HWs/lib/python3.9/site-packages (from importlib_metadata>=4.8.0->gym[classic_control]) (3.17.0)\n",
            "\n",
            "\u001b[1m[\u001b[0m\u001b[34;49mnotice\u001b[0m\u001b[1;39;49m]\u001b[0m\u001b[39;49m A new release of pip is available: \u001b[0m\u001b[31;49m24.0\u001b[0m\u001b[39;49m -> \u001b[0m\u001b[32;49m25.0.1\u001b[0m\n",
            "\u001b[1m[\u001b[0m\u001b[34;49mnotice\u001b[0m\u001b[1;39;49m]\u001b[0m\u001b[39;49m To update, run: \u001b[0m\u001b[32;49mpip install --upgrade pip\u001b[0m\n"
          ]
        }
      ],
      "source": [
        "# pip install --upgrade gym\n",
        "!pip install gym[classic_control]"
      ]
    },
    {
      "cell_type": "code",
      "execution_count": 119,
      "metadata": {
        "id": "t3ltIad5GdZp"
      },
      "outputs": [],
      "source": [
        "### use contrastive_rl kernel\n",
        "import gym\n",
        "import numpy as np\n",
        "import matplotlib.pyplot as plt\n",
        "from IPython import display\n",
        "import copy"
      ]
    },
    {
      "cell_type": "code",
      "execution_count": 120,
      "metadata": {
        "id": "y04tq0F2lNSe"
      },
      "outputs": [],
      "source": [
        "env = gym.make('CartPole-v1', render_mode='rgb_array')"
      ]
    },
    {
      "cell_type": "code",
      "execution_count": 121,
      "metadata": {
        "colab": {
          "base_uri": "https://localhost:8080/"
        },
        "id": "sktyySdAxvXq",
        "outputId": "dbf4eecc-ca12-4096-89e9-d717eb387ca1"
      },
      "outputs": [
        {
          "name": "stdout",
          "output_type": "stream",
          "text": [
            "Actions:\n",
            "Discrete(2)\n"
          ]
        }
      ],
      "source": [
        "print('Actions:')\n",
        "print(env.action_space)"
      ]
    },
    {
      "cell_type": "code",
      "execution_count": 122,
      "metadata": {
        "colab": {
          "base_uri": "https://localhost:8080/"
        },
        "id": "GK5sBbWVxxk8",
        "outputId": "5352f71a-682d-4fc8-fa4b-98dca8b7e6de"
      },
      "outputs": [
        {
          "data": {
            "text/plain": [
              "1"
            ]
          },
          "execution_count": 122,
          "metadata": {},
          "output_type": "execute_result"
        }
      ],
      "source": [
        "env.action_space.sample()"
      ]
    },
    {
      "cell_type": "code",
      "execution_count": 123,
      "metadata": {
        "colab": {
          "base_uri": "https://localhost:8080/"
        },
        "id": "h07Dg4tqx0A3",
        "outputId": "c8e56202-4324-44be-fa71-d038e4dc67ec"
      },
      "outputs": [
        {
          "name": "stdout",
          "output_type": "stream",
          "text": [
            "Observations:\n",
            "shape: (4,)\n",
            "low: [-4.8000002e+00 -3.4028235e+38 -4.1887903e-01 -3.4028235e+38]\n",
            "high: [4.8000002e+00 3.4028235e+38 4.1887903e-01 3.4028235e+38]\n"
          ]
        }
      ],
      "source": [
        "print('Observations:')\n",
        "print('shape:', env.observation_space.shape)\n",
        "print('low:', env.observation_space.low)\n",
        "print('high:', env.observation_space.high)"
      ]
    },
    {
      "cell_type": "code",
      "execution_count": 124,
      "metadata": {
        "colab": {
          "base_uri": "https://localhost:8080/"
        },
        "id": "NOQKuimYx2mB",
        "outputId": "4554e6ab-70fc-4bec-cd60-8426a8187400"
      },
      "outputs": [
        {
          "data": {
            "text/plain": [
              "array([ 0.02372011, -0.00124597,  0.02747648,  0.01913693], dtype=float32)"
            ]
          },
          "execution_count": 124,
          "metadata": {},
          "output_type": "execute_result"
        }
      ],
      "source": [
        "s, _ = env.reset()\n",
        "s"
      ]
    },
    {
      "cell_type": "code",
      "execution_count": 125,
      "metadata": {
        "colab": {
          "base_uri": "https://localhost:8080/"
        },
        "id": "1Rbxk4fQyKC2",
        "outputId": "a348c692-1515-4e82-d23c-ef1b78c80fec"
      },
      "outputs": [
        {
          "name": "stdout",
          "output_type": "stream",
          "text": [
            "s: [ 0.02369519 -0.19675097  0.02785922  0.3203608 ]\n",
            "r: 1.0\n",
            "done: False\n"
          ]
        }
      ],
      "source": [
        "a = 0\n",
        "s, r, done, _, _ = env.step(a)\n",
        "print(f\"s: {s}\")\n",
        "print(f\"r: {r}\")\n",
        "print(f\"done: {done}\")"
      ]
    },
    {
      "cell_type": "code",
      "execution_count": 126,
      "metadata": {
        "colab": {
          "base_uri": "https://localhost:8080/",
          "height": 396
        },
        "id": "_ZombCYFyXDr",
        "outputId": "d04b989f-e9db-4013-f5a6-1fca3704fe71"
      },
      "outputs": [
        {
          "data": {
            "image/png": "[encoded data removed]",
            "text/plain": [
              "<Figure size 640x480 with 1 Axes>"
            ]
          },
          "metadata": {},
          "output_type": "display_data"
        }
      ],
      "source": [
        "plt.imshow(env.render())\n",
        "plt.show()"
      ]
    },
    {
      "cell_type": "code",
      "execution_count": 127,
      "metadata": {
        "colab": {
          "base_uri": "https://localhost:8080/",
          "height": 384
        },
        "id": "LIqAqH93yZpo",
        "outputId": "41cfd5a1-240f-4bfc-b4da-5a9fd06be1ab"
      },
      "outputs": [
        {
          "name": "stdout",
          "output_type": "stream",
          "text": [
            "Total reward: 99.3\n"
          ]
        },
        {
          "data": {
            "image/png": "[encoded data removed]",
            "text/plain": [
              "<Figure size 640x480 with 1 Axes>"
            ]
          },
          "metadata": {},
          "output_type": "display_data"
        }
      ],
      "source": [
        "def policy(observation):\n",
        "  action = np.random.choice([0, 1])\n",
        "  LEFT, RIGHT = 0, 1\n",
        "  cart_pos, cart_vel, pole_angle, pole_angular_vel = observation\n",
        "\n",
        "  # TODO:\n",
        "  if pole_angle + pole_angular_vel < 0:\n",
        "    action = LEFT\n",
        "  else:\n",
        "    action = RIGHT\n",
        "\n",
        "  return action\n",
        "\n",
        "discount = 0.99\n",
        "done = False\n",
        "total_reward = 0\n",
        "\n",
        "\n",
        "img = plt.imshow(env.render())\n",
        "def render():\n",
        "  rgb = env.render()\n",
        "  if done:\n",
        "    rgb[:, :, 1:] = rgb[:, :, 1:] / 2\n",
        "  img.set_data(rgb)\n",
        "  plt.axis('off')\n",
        "  display.display(plt.gcf())\n",
        "  display.clear_output(wait=True)\n",
        "\n",
        "\n",
        "s, _ = env.reset()\n",
        "for t in range(env._max_episode_steps):\n",
        "#   print(t)\n",
        "  action = policy(s)\n",
        "  s, r, done, _, _ = env.step(action)\n",
        "  render()\n",
        "  total_reward += (discount**t) * r\n",
        "  if done:\n",
        "    break\n",
        "print('Total reward: %.1f' % total_reward)"
      ]
    },
    {
      "cell_type": "markdown",
      "metadata": {
        "id": "Y88t4FRkyf3i"
      },
      "source": [
        "##  Question 1: Implement MPC + CEM\n",
        "1. Write two functions from scratch:\n",
        "   - cross_entropy_method(mean_probs, horizon, num_actions, sample_size, elite_frac, cem_iterations, evaluate_fn)\n",
        "   - mpc_control(env, horizon, cem_iterations, sample_size, elite_frac, gamma)\n",
        "\n",
        "2. cross_entropy_method(...)\n",
        "   - Maintains or updates a probability distribution over action sequences (length H).\n",
        "   - Samples multiple candidates, evaluates them, selects \"elite\" sequences, and refits the distribution.\n",
        "   - Returns the best sequence found (and optionally the final distribution).\n",
        "\n",
        "3. mpc_control(env, horizon, cem_iterations, sample_size, elite_frac, gamma)\n",
        "   - On each environment step, calls the above CEM to get an action sequence of length H from the current state.\n",
        "   - Executes the first action in the real env, obtains next state, continues until done.\n",
        "   - If needed, you can \"shift\" or \"reset\" the distribution between steps.\n",
        "\n",
        "Notes: In your solution, carefully implement how you evaluate each candidate action sequence from the current state\n",
        "\n"
      ]
    },
    {
      "cell_type": "code",
      "execution_count": 128,
      "metadata": {
        "id": "uqCsTBGZzFiU"
      },
      "outputs": [],
      "source": [
        "def cross_entropy_method(mean_probs, horizon, num_actions, sample_size, elite_frac, cem_iterations, evaluate_fn):\n",
        "    \"\"\"\n",
        "    TODO: Implement the Cross-Entropy Method (CEM).\n",
        "\n",
        "    Args:\n",
        "        mean_probs (np.ndarray): shape (horizon, num_actions),\n",
        "            the probability distribution over actions at each step.\n",
        "        horizon (int): planning horizon (number of steps).\n",
        "        num_actions (int): discrete action dimension (CartPole has 2).\n",
        "        sample_size (int): how many candidate sequences to sample each iteration.\n",
        "        elite_frac (float): fraction of top sequences to keep as \"elite\".\n",
        "        cem_iterations (int): number of distribution-refinement iterations.\n",
        "        evaluate_fn (callable): function(seq) -> returns a scalar cumulative reward for that action sequence.\n",
        "\n",
        "    Returns:\n",
        "        best_seq (np.ndarray): best action sequence found (shape: (horizon,))\n",
        "        final_probs (np.ndarray): the final distribution (horizon x num_actions).\n",
        "    \"\"\"\n",
        "    ### YOUR CODE HERE ###\n",
        "    final_probs = mean_probs\n",
        "    for i in range(cem_iterations):\n",
        "        samples = np.array([np.random.choice(num_actions, sample_size, p=final_probs[t]) for t in range(horizon)]) # (horizon, sample_size)\n",
        "        samples = samples.T # (sample_size, horizon)\n",
        "        rewards = np.array([evaluate_fn(seq) for seq in samples]) # (sample_size,)\n",
        "        elite_inds = rewards.argsort()[-int(sample_size * elite_frac):] # (elite_size,)\n",
        "        elite_samples = samples[elite_inds] # (elite_size, horizon)\n",
        "        \n",
        "        elite_probs = np.zeros((horizon, num_actions))\n",
        "        for t in range(horizon):\n",
        "            for a in range(num_actions):\n",
        "                elite_probs[t, a] = np.sum(elite_samples[:, t] == a) / elite_samples.shape[0]\n",
        "        final_probs = elite_probs\n",
        "        \n",
        "    best_seq = elite_samples[0] # (horizon,)\n",
        "    # print(f\"best_seq: {best_seq}\")\n",
        "    # print(f\"best reward: {rewards[elite_inds[0]]}\")\n",
        "    return best_seq, final_probs"
      ]
    },
    {
      "cell_type": "code",
      "execution_count": 129,
      "metadata": {
        "id": "c9p7Z5Zm0C-G"
      },
      "outputs": [],
      "source": [
        "def mpc_control(env, horizon=15, cem_iterations=4, sample_size=200, elite_frac=0.1, gamma=1.0):\n",
        "    \"\"\"\n",
        "    TODO: Implement MPC with CEM for the CartPole environment.\n",
        "\n",
        "    On each environment step:\n",
        "      1) define an evaluate_fn that simulates a candidate sequence from the *current state* (or an approximation).\n",
        "      2) call cross_entropy_method(...) to get the best sequence of length 'horizon'.\n",
        "      3) execute the first action from 'best_seq'.\n",
        "      4) repeat until done or max steps reached.\n",
        "\n",
        "    Return:\n",
        "        total_reward (float): total (possibly discounted) reward of this episode.\n",
        "    \"\"\"\n",
        "    ### YOUR CODE HERE ###      \n",
        "    def evaluate_fn(seq, temp_env=env):\n",
        "        total_ret = 0.0\n",
        "        discount_factor = 1.0\n",
        "        for action in seq:\n",
        "            # step\n",
        "            s_next, rew, done_, _, _ = temp_env.step(action)\n",
        "            total_ret += discount_factor * rew\n",
        "            discount_factor *= gamma\n",
        "            if done_:\n",
        "                break\n",
        "        return total_ret\n",
        "      \n",
        "    mean_probs = np.ones((horizon, env.action_space.n)) / env.action_space.n\n",
        "    done = False\n",
        "    s, _ = env.reset()\n",
        "    total_reward = 0\n",
        "    for t in range(env._max_episode_steps):\n",
        "        seq, _ = cross_entropy_method(mean_probs, \n",
        "                                   horizon, \n",
        "                                   env.action_space.n, \n",
        "                                   sample_size, \n",
        "                                   elite_frac, \n",
        "                                   cem_iterations, \n",
        "                                   lambda seq: evaluate_fn(seq, copy.deepcopy(env)))\n",
        "        action = seq[0]\n",
        "        s, r, done, _, _ = env.step(action)\n",
        "        # print(f\"t: {t}, action: {action}, r: {r}\")\n",
        "        total_reward += (gamma**t) * r\n",
        "        if done:\n",
        "            break\n",
        "    return total_reward\n",
        "    \n",
        "    "
      ]
    },
    {
      "cell_type": "code",
      "execution_count": 130,
      "metadata": {
        "id": "2m4pKdRG2-ii"
      },
      "outputs": [
        {
          "name": "stdout",
          "output_type": "stream",
          "text": [
            "[MPC Episode 1] Return = 378.00\n",
            "[MPC Episode 2] Return = 336.00\n",
            "[MPC Episode 3] Return = 342.00\n",
            "[MPC Episode 4] Return = 500.00\n",
            "[MPC Episode 5] Return = 171.00\n",
            "Average Return (MPC + CEM): 345.4\n"
          ]
        }
      ],
      "source": [
        "def run_mpc_cem_demo():\n",
        "    \"\"\"\n",
        "    After implementing cross_entropy_method(...) and mpc_control(...),\n",
        "    run multiple episodes to evaluate performance.\n",
        "    \"\"\"\n",
        "    new_env = gym.make('CartPole-v1', render_mode='rgb_array')\n",
        "\n",
        "    episodes = 5\n",
        "    horizon = 15\n",
        "    total_rewards = []\n",
        "    for ep in range(episodes):\n",
        "        ep_return = mpc_control(new_env, horizon=horizon, cem_iterations=4,\n",
        "                                sample_size=200, elite_frac=0.1, gamma=1.0)\n",
        "        total_rewards.append(ep_return)\n",
        "        print(f\"[MPC Episode {ep+1}] Return = {ep_return:.2f}\")\n",
        "    print(\"Average Return (MPC + CEM):\", np.mean(total_rewards))\n",
        "\n",
        "# Uncomment to test the MPC + CEM solution:\n",
        "run_mpc_cem_demo()"
      ]
    },
    {
      "cell_type": "markdown",
      "metadata": {
        "id": "v83gIJVa0zFS"
      },
      "source": [
        "## Zero-Order Policy Search With CEM\n",
        "Now that you've seen how to use CEM for searching action sequences (MPC), let's re-use the same concept to search directly for a policy parameter vector. This is often called \"Zero-Order Policy Search,\" because we do not require gradients of the policy. We only need to evaluate how good each parameter vector is.\n",
        "\n",
        "In this question, you need to\n",
        "1. Define a parametric policy for CartPole.\n",
        "2. Reuse your CEM approach to search over w in $R^4$ (since CartPole state is 4D).\n",
        "3. Evaluate each sampled w by running a full episode, gather total reward,\n",
        "   pick elites, update distribution.\n",
        "4. After some iterations, you get a final w. Evaluate that policy\n",
        "   and report average return over multiple episodes.\n",
        "\n",
        "Below is a skeleton with TODO for you to fill in."
      ]
    },
    {
      "cell_type": "code",
      "execution_count": 145,
      "metadata": {
        "id": "jYwOrlr80rug"
      },
      "outputs": [],
      "source": [
        "def choose_action(w, obs):\n",
        "    \"\"\"\n",
        "    A simple linear policy for CartPole:\n",
        "      action = 1 if w dot obs > 0 else 0.\n",
        "    w, obs: shape (4,)\n",
        "    \"\"\"\n",
        "    ### YOUR CODE HERE ###\n",
        "    action = 1 if np.dot(w, obs) > 0 else 0\n",
        "    return action"
      ]
    },
    {
      "cell_type": "code",
      "execution_count": 146,
      "metadata": {
        "id": "61IrkA9f0t-e"
      },
      "outputs": [],
      "source": [
        "\n",
        "def rollout_episode(env, w):\n",
        "    \"\"\"\n",
        "    Run one full episode in 'env' using param 'w'.\n",
        "    Return total (undiscounted) reward.\n",
        "    \"\"\"\n",
        "    ### YOUR CODE HERE ###\n",
        "    s, _ = env.reset()\n",
        "    total_reward = 0\n",
        "    done = False\n",
        "    for t in range(env._max_episode_steps):\n",
        "        action = choose_action(w, s)\n",
        "        s, r, done, _, _ = env.step(action)\n",
        "        total_reward += r\n",
        "        if done:\n",
        "            break\n",
        "    return total_reward\n"
      ]
    },
    {
      "cell_type": "code",
      "execution_count": 150,
      "metadata": {
        "id": "lXdwz_vN0uuq"
      },
      "outputs": [],
      "source": [
        "def train_cem_policy(env, dim=4, cem_iterations=10, sample_size=50, elite_frac=0.2):\n",
        "    \"\"\"\n",
        "    TODOs: Zero-Order Policy Search with CEM.\n",
        "      1) Maintain param distribution (mean, std) in R^dim\n",
        "      2) For iteration in [1..cem_iterations]:\n",
        "         - sample 'sample_size' param vectors\n",
        "         - evaluate each, get total reward\n",
        "         - pick top 'elite_frac', update distribution\n",
        "      3) Return best param or final mean\n",
        "    \"\"\"\n",
        "\n",
        "    # Example init (feel free to change it)\n",
        "    mean = np.zeros(dim)\n",
        "    std = np.ones(dim)*2.0\n",
        "    best_w = mean.copy()\n",
        "    best_score = -1e9\n",
        "\n",
        "    ### YOUR CODE HERE ###\n",
        "    for _ in range(cem_iterations):\n",
        "        samples = np.random.normal(mean, std, (sample_size, dim))\n",
        "        rewards = np.array([rollout_episode(env, w) for w in samples])\n",
        "        elite_inds = rewards.argsort()[-int(sample_size * elite_frac):]\n",
        "        elite_samples = samples[elite_inds]\n",
        "        mean = elite_samples.mean(axis=0)\n",
        "        std = elite_samples.std(axis=0)\n",
        "        best_score = rewards[elite_inds[-1]]\n",
        "        best_w = elite_samples[-1]\n",
        "    return best_w"
      ]
    },
    {
      "cell_type": "code",
      "execution_count": 151,
      "metadata": {
        "id": "ESd8wLhs01YJ"
      },
      "outputs": [],
      "source": [
        "def eval_policy(env, w, episodes=5):\n",
        "    \"\"\"\n",
        "    TODOs: Evaluate policy param 'w' over multiple episodes\n",
        "    and return average total reward.\n",
        "    \"\"\"\n",
        "    ### YOUR CODE HERE ###\n",
        "    total_rewards = [rollout_episode(env, w) for _ in range(episodes)]\n",
        "    return np.mean(total_rewards)"
      ]
    },
    {
      "cell_type": "code",
      "execution_count": 152,
      "metadata": {
        "id": "40Bey9iw37Gz"
      },
      "outputs": [
        {
          "name": "stdout",
          "output_type": "stream",
          "text": [
            "\n",
            "Final policy average return (Zero-Order Search) = 148.20\n"
          ]
        }
      ],
      "source": [
        "def run_zero_order_cem_demo():\n",
        "    \"\"\"\n",
        "    Demo for Problem 2: train & evaluate a linear policy with CEM.\n",
        "    \"\"\"\n",
        "    env_zo = gym.make('CartPole-v1')\n",
        "    env_zo._max_episode_steps = 200\n",
        "    w_star = train_cem_policy(env_zo, dim=4, cem_iterations=10, sample_size=10, elite_frac=0.2)\n",
        "    avg_ret = eval_policy(env_zo, w_star, episodes=5)\n",
        "    print(f\"\\nFinal policy average return (Zero-Order Search) = {avg_ret:.2f}\")\n",
        "\n",
        "\n",
        "run_zero_order_cem_demo()"
      ]
    },
    {
      "cell_type": "code",
      "execution_count": null,
      "metadata": {},
      "outputs": [],
      "source": []
    }
  ],
  "metadata": {
    "accelerator": "GPU",
    "colab": {
      "gpuType": "T4",
      "provenance": []
    },
    "kernelspec": {
      "display_name": "HWs",
      "language": "python",
      "name": "python3"
    },
    "language_info": {
      "codemirror_mode": {
        "name": "ipython",
        "version": 3
      },
      "file_extension": ".py",
      "mimetype": "text/x-python",
      "name": "python",
      "nbconvert_exporter": "python",
      "pygments_lexer": "ipython3",
      "version": "3.9.18"
    }
  },
  "nbformat": 4,
  "nbformat_minor": 0
}
